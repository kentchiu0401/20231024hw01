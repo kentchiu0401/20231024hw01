{
 "cells": [
  {
   "cell_type": "code",
   "execution_count": 13,
   "id": "00432b68",
   "metadata": {},
   "outputs": [
    {
     "name": "stdout",
     "output_type": "stream",
     "text": [
      "nikkylin@ntnu.edu.tw\n",
      "siokhui@ntnu.edu.tw\n",
      "longa@ntnu.edu.tw\n",
      "high221@ntnu.edu.tw\n",
      "ptm110_13629@ntnu.edu.tw\n",
      "ccy325@ntnu.edu.tw\n",
      "fmlin@ntnu.edu.tw\n",
      "senghian@ntnu.edu.tw\n",
      "t21005@ntnu.edu.tw\n",
      "huibing@ntnu.edu.tw\n",
      "khinhoan@ntnu.edu.tw\n",
      "shumeishih@ntnu.edu.tw\n",
      "libichhin@ntnu.edu.tw\n",
      "yjchen@ntnu.edu.tw\n",
      "issai@ntnu.edu.tw\n",
      "ptm106_10351@ntnu.edu.tw\n",
      "yuying.chuang@ntnu.edu.tw\n",
      "hsuhj@ntnu.edu.tw\n",
      "ocean2013@ntnu.edu.tw\n",
      "tcll@ntnu.edu.tw\n",
      "annheylen@ntnu.edu.tw\n",
      "taiwancenter@ntnu.edu.tw\n",
      "irowen@ntnu.edu.tw\n",
      "irenelu@ntnu.edu.tw\n",
      "laalaapiano@ntnu.edu.tw\n",
      "ptm112-15084@ntnu.edu.tw\n",
      "peichen@ntnu.edu.tw\n"
     ]
    }
   ],
   "source": [
    "import requests\n",
    "import re\n",
    "\n",
    "url = 'https://www.tcll.ntnu.edu.tw/index.php/faculty/'\n",
    "response = requests.get(url)\n",
    "html_content = response.text\n",
    "\n",
    "email_regex = r'\\b[A-Za-z0-9._%+-]+@[A-Za-z0-9.-]+\\.[A-Z|a-z]{2,}\\b'\n",
    "emails = set(re.findall(email_regex, html_content))\n",
    "\n",
    "for email in emails:\n",
    "    print(email)"
   ]
  },
  {
   "cell_type": "code",
   "execution_count": null,
   "id": "9e2a138a",
   "metadata": {},
   "outputs": [],
   "source": []
  }
 ],
 "metadata": {
  "kernelspec": {
   "display_name": "Python 3 (ipykernel)",
   "language": "python",
   "name": "python3"
  },
  "language_info": {
   "codemirror_mode": {
    "name": "ipython",
    "version": 3
   },
   "file_extension": ".py",
   "mimetype": "text/x-python",
   "name": "python",
   "nbconvert_exporter": "python",
   "pygments_lexer": "ipython3",
   "version": "3.11.4"
  }
 },
 "nbformat": 4,
 "nbformat_minor": 5
}
